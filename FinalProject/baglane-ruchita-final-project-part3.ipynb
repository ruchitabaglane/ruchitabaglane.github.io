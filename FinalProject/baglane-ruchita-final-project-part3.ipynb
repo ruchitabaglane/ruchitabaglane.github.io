{
 "cells": [
  {
   "cell_type": "markdown",
   "id": "98ee0d05",
   "metadata": {},
   "source": [
    "<h2><center>Final Project - Part 3</center></h2>\n",
    "<h1><center>Characters Who Shaped the Wizarding World of Harry Potter</center></h1>\n",
    "<h3><center>Author - Ruchita Baglane&nbsp&nbsp Net ID - baglane2</center></h3>"
   ]
  },
  {
   "cell_type": "markdown",
   "id": "bd4f0b8c",
   "metadata": {},
   "source": [
    "# Introduction\n",
    "\n",
    "Being an ardent fan of the Harry Potter movies and books, I have always been very interested in all the blogs and online articles related to the wizarding world. So as part of this project I decided to analyse the Harry Potter characters dataset to have a look at the witches, wizards and muggles(non magic folks) having different blood status i.e. ancestory. I also went ahead and created a visualisation to see who these characters were loyal to at the time of the Battle of Hogwarts.\n",
    "\n",
    "The article consits of an interactive visualisation similar to the one submitted in part 2 of final project. Thus, I have reused the code to load the input data, clean and transform the data and create the visualization. I have used bqplot to add interactivity in the visulizations. I have added a brief description before/after every visualization.\n",
    "\n",
    "***NOTE:*** To have a look at the visualizations please click on the double arrow icon in the toolbar above to restart the kernel and run all the cells at once or run one cell at a time. Also, you might see an error saying 'No such file or directory: 'Harry Potter 1.csv'. Please restart kernel or run all the cells again in this case.\n",
    "\n",
    "\n",
    "### Choice of Datasets\n",
    "The main dataset that I have selected is the Characters.csv data. This dataset consists of the character names, their Hogwarts houses, blood statuses, wand types, patronuses, etc. The three contextual datasets that I have selected consist of the character names and sentences spoken by each character in the first three movies in the Harry Potter series. The links to all the datasets is given at the end of the notebook.\n",
    "\n",
    "## Visualization #1 - Loyalty of Characters, Their Houses, and Blood Types\n",
    "With the first visualization I aim to depict the loyalties of characters from different Hogwarts houses and also show how they are segregated into different blood types based on their ancestory. The four Hogwarts houses are - Gryffindor, Slytherin, Hufflepuff, Ravenclaw. The different blood types are - pure blood, half blood, muggle born.\n",
    "\n",
    "The following cells represent the steps taken to clean and transform the data and finally creating the visulization."
   ]
  },
  {
   "cell_type": "markdown",
   "id": "4be4ddd3",
   "metadata": {},
   "source": [
    "### Step 1 - Importing required packages"
   ]
  },
  {
   "cell_type": "code",
   "execution_count": 1,
   "id": "11e1e69a",
   "metadata": {},
   "outputs": [],
   "source": [
    "# Importing packages required for EDA\n",
    "\n",
    "import pandas as pd\n",
    "import bqplot\n",
    "from bqplot import pyplot as plt\n",
    "from bqplot import Tooltip\n",
    "import numpy as np\n",
    "import ipywidgets\n",
    "import pandas as pd\n",
    "import matplotlib\n",
    "import matplotlib.pyplot as plot"
   ]
  },
  {
   "cell_type": "markdown",
   "id": "0076d19d",
   "metadata": {},
   "source": [
    "### Step 2 - Loading input file"
   ]
  },
  {
   "cell_type": "code",
   "execution_count": 2,
   "id": "de2ac943",
   "metadata": {},
   "outputs": [
    {
     "data": {
      "text/html": [
       "<div>\n",
       "<style scoped>\n",
       "    .dataframe tbody tr th:only-of-type {\n",
       "        vertical-align: middle;\n",
       "    }\n",
       "\n",
       "    .dataframe tbody tr th {\n",
       "        vertical-align: top;\n",
       "    }\n",
       "\n",
       "    .dataframe thead th {\n",
       "        text-align: right;\n",
       "    }\n",
       "</style>\n",
       "<table border=\"1\" class=\"dataframe\">\n",
       "  <thead>\n",
       "    <tr style=\"text-align: right;\">\n",
       "      <th></th>\n",
       "      <th>Id</th>\n",
       "      <th>Name</th>\n",
       "      <th>Gender</th>\n",
       "      <th>Job</th>\n",
       "      <th>House</th>\n",
       "      <th>Wand</th>\n",
       "      <th>Patronus</th>\n",
       "      <th>Species</th>\n",
       "      <th>Blood status</th>\n",
       "      <th>Hair colour</th>\n",
       "      <th>Eye colour</th>\n",
       "      <th>Loyalty</th>\n",
       "      <th>Skills</th>\n",
       "      <th>Birth</th>\n",
       "      <th>Death</th>\n",
       "    </tr>\n",
       "  </thead>\n",
       "  <tbody>\n",
       "    <tr>\n",
       "      <th>0</th>\n",
       "      <td>1</td>\n",
       "      <td>Harry James Potter</td>\n",
       "      <td>Male</td>\n",
       "      <td>Student</td>\n",
       "      <td>Gryffindor</td>\n",
       "      <td>11\"  Holly  phoenix feather</td>\n",
       "      <td>Stag</td>\n",
       "      <td>Human</td>\n",
       "      <td>Half-blood</td>\n",
       "      <td>Black</td>\n",
       "      <td>Bright green</td>\n",
       "      <td>Albus Dumbledore | Dumbledore's Army | Order o...</td>\n",
       "      <td>Parseltongue| Defence Against the Dark Arts | ...</td>\n",
       "      <td>31 July 1980</td>\n",
       "      <td>NaN</td>\n",
       "    </tr>\n",
       "    <tr>\n",
       "      <th>1</th>\n",
       "      <td>2</td>\n",
       "      <td>Ronald Bilius Weasley</td>\n",
       "      <td>Male</td>\n",
       "      <td>Student</td>\n",
       "      <td>Gryffindor</td>\n",
       "      <td>12\" Ash unicorn tail hair</td>\n",
       "      <td>Jack Russell terrier</td>\n",
       "      <td>Human</td>\n",
       "      <td>Pure-blood</td>\n",
       "      <td>Red</td>\n",
       "      <td>Blue</td>\n",
       "      <td>Dumbledore's Army | Order of the Phoenix | Hog...</td>\n",
       "      <td>Wizard chess | Quidditch goalkeeping</td>\n",
       "      <td>1 March 1980</td>\n",
       "      <td>NaN</td>\n",
       "    </tr>\n",
       "    <tr>\n",
       "      <th>2</th>\n",
       "      <td>3</td>\n",
       "      <td>Hermione Jean Granger</td>\n",
       "      <td>Female</td>\n",
       "      <td>Student</td>\n",
       "      <td>Gryffindor</td>\n",
       "      <td>10¾\"  vine wood dragon heartstring</td>\n",
       "      <td>Otter</td>\n",
       "      <td>Human</td>\n",
       "      <td>Muggle-born</td>\n",
       "      <td>Brown</td>\n",
       "      <td>Brown</td>\n",
       "      <td>Dumbledore's Army | Order of the Phoenix | Hog...</td>\n",
       "      <td>Almost everything</td>\n",
       "      <td>19 September, 1979</td>\n",
       "      <td>NaN</td>\n",
       "    </tr>\n",
       "    <tr>\n",
       "      <th>3</th>\n",
       "      <td>4</td>\n",
       "      <td>Albus Percival Wulfric Brian Dumbledore</td>\n",
       "      <td>Male</td>\n",
       "      <td>Headmaster</td>\n",
       "      <td>Gryffindor</td>\n",
       "      <td>15\" Elder Thestral tail hair core</td>\n",
       "      <td>Phoenix</td>\n",
       "      <td>Human</td>\n",
       "      <td>Half-blood</td>\n",
       "      <td>Silver| formerly auburn</td>\n",
       "      <td>Blue</td>\n",
       "      <td>Dumbledore's Army | Order of the Phoenix | Hog...</td>\n",
       "      <td>Considered by many to be one of the most power...</td>\n",
       "      <td>Late August 1881</td>\n",
       "      <td>30 June, 1997</td>\n",
       "    </tr>\n",
       "    <tr>\n",
       "      <th>4</th>\n",
       "      <td>5</td>\n",
       "      <td>Rubeus Hagrid</td>\n",
       "      <td>Male</td>\n",
       "      <td>Keeper of Keys and Grounds | Professor of Care...</td>\n",
       "      <td>Gryffindor</td>\n",
       "      <td>16\"  Oak unknown core</td>\n",
       "      <td>None</td>\n",
       "      <td>Half-Human/Half-Giant</td>\n",
       "      <td>Part-Human (Half-giant)</td>\n",
       "      <td>Black</td>\n",
       "      <td>Black</td>\n",
       "      <td>Albus Dumbledore | Order of the Phoenix | Hogw...</td>\n",
       "      <td>Resistant to stunning spells| above average st...</td>\n",
       "      <td>6 December 1928</td>\n",
       "      <td>NaN</td>\n",
       "    </tr>\n",
       "  </tbody>\n",
       "</table>\n",
       "</div>"
      ],
      "text/plain": [
       "   Id                                     Name  Gender  \\\n",
       "0   1                       Harry James Potter    Male   \n",
       "1   2                    Ronald Bilius Weasley    Male   \n",
       "2   3                    Hermione Jean Granger  Female   \n",
       "3   4  Albus Percival Wulfric Brian Dumbledore    Male   \n",
       "4   5                            Rubeus Hagrid    Male   \n",
       "\n",
       "                                                 Job       House  \\\n",
       "0                                            Student  Gryffindor   \n",
       "1                                            Student  Gryffindor   \n",
       "2                                            Student  Gryffindor   \n",
       "3                                         Headmaster  Gryffindor   \n",
       "4  Keeper of Keys and Grounds | Professor of Care...  Gryffindor   \n",
       "\n",
       "                                 Wand              Patronus  \\\n",
       "0         11\"  Holly  phoenix feather                  Stag   \n",
       "1          12\" Ash unicorn tail hair   Jack Russell terrier   \n",
       "2  10¾\"  vine wood dragon heartstring                 Otter   \n",
       "3   15\" Elder Thestral tail hair core               Phoenix   \n",
       "4               16\"  Oak unknown core                  None   \n",
       "\n",
       "                 Species             Blood status              Hair colour  \\\n",
       "0                  Human               Half-blood                    Black   \n",
       "1                  Human               Pure-blood                      Red   \n",
       "2                  Human              Muggle-born                    Brown   \n",
       "3                  Human               Half-blood  Silver| formerly auburn   \n",
       "4  Half-Human/Half-Giant  Part-Human (Half-giant)                    Black   \n",
       "\n",
       "     Eye colour                                            Loyalty  \\\n",
       "0  Bright green  Albus Dumbledore | Dumbledore's Army | Order o...   \n",
       "1          Blue  Dumbledore's Army | Order of the Phoenix | Hog...   \n",
       "2         Brown  Dumbledore's Army | Order of the Phoenix | Hog...   \n",
       "3          Blue  Dumbledore's Army | Order of the Phoenix | Hog...   \n",
       "4         Black  Albus Dumbledore | Order of the Phoenix | Hogw...   \n",
       "\n",
       "                                              Skills               Birth  \\\n",
       "0  Parseltongue| Defence Against the Dark Arts | ...        31 July 1980   \n",
       "1               Wizard chess | Quidditch goalkeeping        1 March 1980   \n",
       "2                                  Almost everything  19 September, 1979   \n",
       "3  Considered by many to be one of the most power...    Late August 1881   \n",
       "4  Resistant to stunning spells| above average st...     6 December 1928   \n",
       "\n",
       "            Death  \n",
       "0             NaN  \n",
       "1             NaN  \n",
       "2             NaN  \n",
       "3  30 June, 1997   \n",
       "4             NaN  "
      ]
     },
     "execution_count": 2,
     "metadata": {},
     "output_type": "execute_result"
    }
   ],
   "source": [
    "# Loading the file into pandas dataframe.\n",
    "\n",
    "characters_data = pd.read_csv('Characters.csv', sep = ';')\n",
    "characters_data.head(5)"
   ]
  },
  {
   "cell_type": "markdown",
   "id": "91fe6191",
   "metadata": {},
   "source": [
    "### Step 3 - Cleaning the data in the column 'Loyalty'"
   ]
  },
  {
   "cell_type": "code",
   "execution_count": 3,
   "id": "7fde149b",
   "metadata": {},
   "outputs": [
    {
     "name": "stdout",
     "output_type": "stream",
     "text": [
      "5\n"
     ]
    },
    {
     "data": {
      "text/plain": [
       "array(['Gryffindor', 'Ravenclaw', 'Slytherin', 'Other', 'Hufflepuff'],\n",
       "      dtype=object)"
      ]
     },
     "execution_count": 3,
     "metadata": {},
     "output_type": "execute_result"
    }
   ],
   "source": [
    "four_houses = ['Gryffindor', 'Ravenclaw', 'Slytherin', 'Hufflepuff']\n",
    "\n",
    "# Replacing the column values with 'Other' for house names apart from the one's in the above list.\n",
    "characters_data.loc[((~characters_data.House.isin(four_houses)) & \n",
    "                    (characters_data.House != 'Unknown')), 'House'] = 'Other'\n",
    "\n",
    "print(characters_data['House'].nunique())\n",
    "characters_data.House.unique()"
   ]
  },
  {
   "cell_type": "code",
   "execution_count": 4,
   "id": "9d80fee4",
   "metadata": {},
   "outputs": [
    {
     "data": {
      "text/plain": [
       "array([\"Albus Dumbledore | Dumbledore's Army | Order of the Phoenix | Hogwarts School of Witchcraft and Wizardry\",\n",
       "       \"Dumbledore's Army | Order of the Phoenix | Hogwarts School of Witchcraft and Wizardry\",\n",
       "       'Albus Dumbledore | Order of the Phoenix | Hogwarts School of Witchcraft and Wizardry',\n",
       "       \"Dumbledore's Army | Hogwarts School of Witchcraft and Wizardry\",\n",
       "       'Order of the Phoenix', 'Lord Voldemort| Death Eaters',\n",
       "       'Order of the Phoenix| Hogwarts School of Witchcraft and Wizardry |British Ministry of Magic',\n",
       "       'Order of the Phoenix | Gringotts Wizarding Bank',\n",
       "       'Hogwarts School of Witchcraft and Wizardry',\n",
       "       \"Dumbledore's Army |Hogwarts School of Witchcraft and Wizardry\",\n",
       "       'Order of the Phoenix| British Ministry of Magic',\n",
       "       'Lord Voldemort', nan, 'Lord Voldemort \\xa0| Death Eaters',\n",
       "       'Ministry of Magic', 'Ministry of Magic | Order of the Phoenix',\n",
       "       \"Dumbledore's Army\", 'Original Order of the Phoenix',\n",
       "       'Minister of Magic', \"Gellert Grindelwald's Acolytes\"],\n",
       "      dtype=object)"
      ]
     },
     "execution_count": 4,
     "metadata": {},
     "output_type": "execute_result"
    }
   ],
   "source": [
    "# Checking unique values in the Loyalty column\n",
    "characters_data.Loyalty.unique()"
   ]
  },
  {
   "cell_type": "code",
   "execution_count": 5,
   "id": "981b9541",
   "metadata": {},
   "outputs": [
    {
     "name": "stdout",
     "output_type": "stream",
     "text": [
      "6\n"
     ]
    },
    {
     "data": {
      "text/plain": [
       "array([\"Dumbledore's Army\", 'Order of the Phoenix',\n",
       "       'Lord Voldemort/Death Eaters', 'Ministry of Magic',\n",
       "       'Hogwarts School', 'Not Specified'], dtype=object)"
      ]
     },
     "execution_count": 5,
     "metadata": {},
     "output_type": "execute_result"
    }
   ],
   "source": [
    "# Repalcing the blanks, nans, and special characters with appropriate values and transforming the column values as\n",
    "# needed for the visualisation.\n",
    "\n",
    "characters_data['Loyalty Clean'] = characters_data['Loyalty'].fillna(' ').\\\n",
    "                                            apply(lambda x: x.replace('\\xa0', ' '))\n",
    "\n",
    "characters_data.loc[(characters_data['Loyalty Clean'].str.\\\n",
    "                     contains('Dumbledore', regex=False)), 'Loyalty Clean'] = \"Dumbledore's Army\"\n",
    "\n",
    "characters_data.loc[(characters_data['Loyalty Clean'].str.\\\n",
    "                     contains('Lord Voldemort|Grindelwald', regex=True)), 'Loyalty Clean'] = 'Lord Voldemort/Death Eaters'\n",
    "\n",
    "characters_data.loc[(characters_data['Loyalty Clean'].str.\\\n",
    "                     contains('Ministry|Minister', regex=True)), 'Loyalty Clean'] = 'Ministry of Magic'\n",
    "\n",
    "characters_data.loc[((characters_data['Loyalty Clean'].str.\\\n",
    "                     contains('Order', regex=False)) & (~characters_data['Loyalty Clean'].str.\\\n",
    "                     contains('Ministry', regex=False))), 'Loyalty Clean'] = 'Order of the Phoenix'\n",
    "\n",
    "characters_data.loc[((characters_data['Loyalty Clean'].str.\\\n",
    "                     contains('Hogwarts', regex=False)) & (~characters_data['Loyalty Clean'].str.\\\n",
    "                     contains('Order', regex=False))), 'Loyalty Clean'] = 'Hogwarts School'\n",
    "\n",
    "characters_data['Loyalty Clean'].replace(to_replace = [' '],\n",
    "                                            value = 'Not Specified',\n",
    "                                            inplace = True)\n",
    "\n",
    "print(characters_data['Loyalty Clean'].nunique())\n",
    "characters_data['Loyalty Clean'].unique()"
   ]
  },
  {
   "cell_type": "markdown",
   "id": "e657f1f4",
   "metadata": {},
   "source": [
    "### Step 4 - Cleaning the data in the column 'Blood Status'"
   ]
  },
  {
   "cell_type": "code",
   "execution_count": 6,
   "id": "17ed4e5e",
   "metadata": {
    "scrolled": true
   },
   "outputs": [
    {
     "data": {
      "text/plain": [
       "array(['Half-blood', 'Pure-blood', 'Muggle-born',\n",
       "       'Part-Human\\xa0(Half-giant)', 'Half-blood\\xa0or\\xa0pure-blood',\n",
       "       'Pure-blood\\xa0or\\xa0half-blood', 'Pure-blood\\xa0or\\xa0Half-blood',\n",
       "       'Unknown', 'Part-Goblin', 'Muggle-born\\xa0or\\xa0half-blood[', nan,\n",
       "       'Pure-blood or half-blood', 'Quarter-Veela', 'Half-blood[',\n",
       "       'Muggle', 'Squib'], dtype=object)"
      ]
     },
     "execution_count": 6,
     "metadata": {},
     "output_type": "execute_result"
    }
   ],
   "source": [
    "characters_data['Blood status'].unique()"
   ]
  },
  {
   "cell_type": "code",
   "execution_count": 7,
   "id": "a6c4395f",
   "metadata": {},
   "outputs": [
    {
     "name": "stdout",
     "output_type": "stream",
     "text": [
      "10\n"
     ]
    },
    {
     "data": {
      "text/plain": [
       "array(['Half-blood', 'Pure-blood', 'Muggle-born',\n",
       "       'Part-Human (Half-giant)', 'Pure-blood or half-blood', 'Unknown',\n",
       "       'Part-Goblin', 'Quarter-Veela', 'Muggle', 'Squib'], dtype=object)"
      ]
     },
     "execution_count": 7,
     "metadata": {},
     "output_type": "execute_result"
    }
   ],
   "source": [
    "# Repalcing the blanks, nans, and special characters with appropriate values and transforming the column values as\n",
    "# needed for the visualisation.\n",
    "characters_data['Blood status clean'] = characters_data['Blood status'].fillna(' ').\\\n",
    "                                            apply(lambda x: x.replace('\\xa0', ' '))\n",
    "\n",
    "characters_data['Blood status clean'].replace(to_replace = ['Half-blood or pure-blood',\n",
    "                                                     'Pure-blood or Half-blood',\n",
    "                                                     'Pure-blood or half-blood'],\n",
    "                                            value = 'Pure-blood or half-blood',\n",
    "                                            inplace = True)\n",
    "characters_data['Blood status clean'].replace(to_replace = ['Half-blood['],\n",
    "                                            value = 'Half-blood',\n",
    "                                            inplace = True)\n",
    "characters_data['Blood status clean'].replace(to_replace = ['Muggle-born or half-blood['],\n",
    "                                            value = 'Half-blood',\n",
    "                                            inplace = True)\n",
    "characters_data['Blood status clean'].replace(to_replace = [' '],\n",
    "                                            value = 'Unknown',\n",
    "                                            inplace = True)\n",
    "\n",
    "print(characters_data['Blood status clean'].nunique())\n",
    "characters_data['Blood status clean'].unique()"
   ]
  },
  {
   "cell_type": "code",
   "execution_count": 8,
   "id": "873d0293",
   "metadata": {},
   "outputs": [
    {
     "name": "stdout",
     "output_type": "stream",
     "text": [
      "6\n"
     ]
    },
    {
     "data": {
      "text/plain": [
       "array(['Half-blood', 'Pure-blood', 'Muggle-born', 'Other',\n",
       "       'Pure-blood or half-blood', 'Unknown'], dtype=object)"
      ]
     },
     "execution_count": 8,
     "metadata": {},
     "output_type": "execute_result"
    }
   ],
   "source": [
    "blood_status = ['Half-blood', 'Pure-blood', 'Muggle-born', 'Pure-blood or half-blood', 'Muggle-born or half-blood']\n",
    "\n",
    "# Replacing the column values with 'Other' for blood status apart from the one's in the above list.\n",
    "characters_data.loc[((~characters_data['Blood status clean'].isin(blood_status)) & \n",
    "                    (characters_data['Blood status clean'] != 'Unknown')), 'Blood status clean'] = 'Other'\n",
    "\n",
    "print(characters_data['Blood status clean'].nunique())\n",
    "characters_data['Blood status clean'].unique()"
   ]
  },
  {
   "cell_type": "markdown",
   "id": "9e6c3d31",
   "metadata": {},
   "source": [
    "### Step 5 - Creating output placeholders for tooltips"
   ]
  },
  {
   "cell_type": "code",
   "execution_count": 9,
   "id": "8101a2aa-7858-4fb0-a8ca-77a5124c66fe",
   "metadata": {},
   "outputs": [],
   "source": [
    "out = ipywidgets.Output()\n",
    "out1 = ipywidgets.Output(layout={'border': '1px solid black', \n",
    "                                 'margin': '0 0 0 0'})\n",
    "out2 = ipywidgets.Output(layout={'border': '1px solid black', \n",
    "                                 'margin': '0 0 0 0'})\n",
    "out3 = ipywidgets.Output(layout={'border': '1px solid black', \n",
    "                                 'margin': '0 0 0 0'})\n",
    "out4 = ipywidgets.Output(layout={'border': '1px solid black', \n",
    "                                 'margin': '0 0 0 0'})\n",
    "out5 = ipywidgets.Output(layout={'border': '1px solid black', \n",
    "                                 'margin': '0 0 0 0'})"
   ]
  },
  {
   "cell_type": "markdown",
   "id": "a49b7793",
   "metadata": {},
   "source": [
    "### Step 6 - Creating the plots in the interactive visualization"
   ]
  },
  {
   "cell_type": "code",
   "execution_count": 10,
   "id": "1210912e",
   "metadata": {},
   "outputs": [],
   "source": [
    "# Code for stacked bar chart\n",
    "\n",
    "# Creating the area for visualization\n",
    "fig = plt.figure(title = \"Character count per Hogwarts house\")\n",
    "\n",
    "# Setting the layout for the plot\n",
    "fig.layout.height = \"600px\"\n",
    "fig.layout.width = \"580px\"\n",
    "\n",
    "# Grouping the data by houses and blood statuses of the characters\n",
    "df = characters_data.groupby([\"House\", \"Blood status clean\"]).Name.count().unstack('Blood status clean')\n",
    "\n",
    "# Creating bar plot to show \"Character count per Hogwarts house\"\n",
    "houses = plt.bar(x = df.index.tolist(), \n",
    "                 y= df.values.tolist(),\n",
    "                 labels = df.columns.tolist(),\n",
    "                 interactions = {'click': 'select', 'hover': 'tooltip'},\n",
    "                 anchor_style = {'fill': 'white'},\n",
    "                 selected_style={'stroke': 'white', 'stroke-width': 3},\n",
    "                 unselected_style={'opacity':0.5},\n",
    "                 display_legend = True)\n",
    "\n",
    "# For stacked bar graph\n",
    "houses.type = \"stacked\"\n",
    "\n",
    "houses.colors = bqplot.CATEGORY10\n",
    "\n",
    "plt.xlabel(\"House\")\n",
    "plt.ylabel(\"Character count\")\n",
    "fig.legend_location = 'top-left'\n",
    "fig.legend_text = {'font-size': 12}\n",
    "fig.legend_style = {'width': 'auto'}\n",
    "\n",
    "\n",
    "# Code for the horizontal bar chart\n",
    "\n",
    "# Creating the area for visualization\n",
    "figb = plt.figure(title = \"Loyalties of charcaters during the war\")\n",
    "\n",
    "# Setting the layout for the plot\n",
    "figb.layout.height = \"600px\"\n",
    "figb.layout.width = \"580px\"\n",
    "\n",
    "subset = characters_data.loc[characters_data['House'] == 'Gryffindor']\n",
    "\n",
    "# Grouping the data by Loyalty of the characters\n",
    "loyalty = subset.groupby(\"Loyalty Clean\").Name.count()\n",
    "\n",
    "# Creating bar plot to show \"Loyalties of charcaters during the war\"\n",
    "loyalty_plot = plt.bar(x = loyalty.index.tolist(), \n",
    "                       y= loyalty.values.tolist(), \n",
    "                       orientation = 'horizontal',\n",
    "                      tick_style ={'font-size': 100})\n",
    "\n",
    "loyalty_plot.colors = [\"tomato\"]\n",
    "plt.xlabel(\"Loyalty\")\n",
    "plt.ylabel(\"Character count\")\n",
    "\n",
    "figb.axes[0].tick_rotate = -60\n",
    "figb.axes[0].tick_style = {'text-anchor': 'end', 'offset': '40px', 'font-size': 10}\n",
    "figb.axes[0].label_offset = '-12%'"
   ]
  },
  {
   "cell_type": "markdown",
   "id": "01882fa3",
   "metadata": {},
   "source": [
    "### Step 7 - Adding interactivity to the visualizations"
   ]
  },
  {
   "cell_type": "code",
   "execution_count": 11,
   "id": "9078de7e",
   "metadata": {},
   "outputs": [],
   "source": [
    "# Code for tooltip for the stacked bar chart\n",
    "def on_hover_houses(_, event):\n",
    "    out1.clear_output()\n",
    "    with out1:\n",
    "        print(f\"House: {event['data']['x']}\\n\"\\\n",
    "              f\"Blood status: {df.columns[event['data']['colorIndex']]}\\n\"\\\n",
    "              f\"Character count: {event['data']['y']}\\n\")\n",
    "    houses.tooltip = out1\n",
    "\n",
    "# Code for tooltip for the horizontal bar chart    \n",
    "def on_hover_loyalty(_, event):\n",
    "    out2.clear_output()\n",
    "    with out2:\n",
    "        print(f\"Loyalty: {event['data']['x']}\\n\"\n",
    "              f\"Character count: {event['data']['y']}\\n\")\n",
    "    loyalty_plot.tooltip = out2\n",
    "    \n",
    "# Calback function to interact with bar plot\n",
    "def on_selected(self, change, characters_data):\n",
    "    #print(change, self)\n",
    "    house = None\n",
    "    if len(self.selected) == 0:\n",
    "            label.value = 'No data selected!!'\n",
    "            return\n",
    "    for mark in self.selected:\n",
    "        house = self.x[mark]\n",
    "\n",
    "    subset = characters_data.loc[characters_data['House'] == house]\n",
    "\n",
    "    loyalty = subset.groupby(\"Loyalty Clean\").Name.count()\n",
    "    \n",
    "    loyalty_plot.x = loyalty.index.tolist()\n",
    "    loyalty_plot.y = loyalty.values.tolist()\n",
    "    ## TO MODIFY COLOR\n",
    "    house_colors = {\n",
    "        'Gryffindor': 'red',\n",
    "        'Hufflepuff': 'yellow',\n",
    "        'Ravenclaw': 'blue',\n",
    "        'Slytherin': 'green',\n",
    "        'Other': 'Gray'\n",
    "    }\n",
    "    loyalty_plot.colors = [house_colors[house]]\n",
    "\n",
    "houses.on_hover(on_hover_houses)\n",
    "houses.on_element_click(lambda _, x: on_selected(_, x, characters_data))\n",
    "loyalty_plot.on_hover(on_hover_loyalty)"
   ]
  },
  {
   "cell_type": "markdown",
   "id": "cef7a12e",
   "metadata": {},
   "source": [
    "### Step 8 - Displaying the visualization\n",
    "The stacked bar graph on the left shows characters of different blood types from different houses in Hogwarts School of Witchcraft and Wizardry. This stacked bar chart basically gives information about which houses are more accomodating of people from different backgrounds. By looking at the stacked bar chart, one can say that Gryffindor is the most accomodating of wizards from all the backgrouds. Slytherin, on the other hand, has no muggle born or Wizards with blood types other than pure or half-blood. I have added a tooltip to make the visualization interactive. When the user hovers over a section of the bar, a tooltip shows the Hogwarts house, the blood status represented by the selected section, and the number of characters belonging to this section from the selected house. \n",
    "\n",
    "The second visualization on the right is a horizontal bar graph showing the loyalty of Hogwarts characters who partocipated in the Battle of Hogwarts. Loyalty indicates which  side the character was on and whether they favored the evil or the good side. When the user hovers the mouse over any bar, a tooltip shows the loyalty details represented by the selected bar and the number of characters that indicate loyalty to the selected group. \n",
    "\n",
    "The two bar charts are linked. When the user clicks on one of the bars in the stacked bar chart, the horizontal bar chart is updated to reflect the loyalty of  the selected Hogwarts School of Witchcraft and Wizardry character. For example, if the user clicks on a bar that represents Gryffindor, the bar graph on the right shows the distribution of characters having different loyalties from Gryffindor. From the visualization we can say that, Gryffindors were the most loyal to the Dumbeldore's Army which is the good side. Ravenclaw and Hufflepuff also loyalty to the good side, while Slytherins were mostly on Voldermot's side."
   ]
  },
  {
   "cell_type": "code",
   "execution_count": 12,
   "id": "b8df3613",
   "metadata": {},
   "outputs": [
    {
     "data": {
      "application/vnd.jupyter.widget-view+json": {
       "model_id": "3007e439557f4aeabfbc732301b53179",
       "version_major": 2,
       "version_minor": 0
      },
      "text/plain": [
       "HBox(children=(Figure(axes=[Axis(label='House', scale=OrdinalScale()), Axis(label='Character count', orientati…"
      ]
     },
     "metadata": {},
     "output_type": "display_data"
    }
   ],
   "source": [
    "my_dashboard = ipywidgets.HBox([fig, figb])\n",
    "my_dashboard.layout.width = 'auto'\n",
    "\n",
    "display(my_dashboard)"
   ]
  },
  {
   "cell_type": "markdown",
   "id": "acc3f0d0",
   "metadata": {},
   "source": [
    "# Contextual Plots"
   ]
  },
  {
   "cell_type": "markdown",
   "id": "4a0b72f1",
   "metadata": {},
   "source": [
    "The contextual datasets that I have selected consist of the dialogues of characters in the first three movies of the Harry Potter series. Through these datasets, I wanted to find out the most significant characters in the series based on the sentences they have spoken. I aim to map this information to the main dataset to have a look at the house wise and blood status wise distribution of the most important characters in the series. I am combining the data from the three datasets for this visulizations.\n",
    "\n",
    "The following cells represent the steps taken to clean and transform the data and finally creating the visulization."
   ]
  },
  {
   "cell_type": "markdown",
   "id": "7a08e12d",
   "metadata": {},
   "source": [
    "### Step 1 - Loading the input data files"
   ]
  },
  {
   "cell_type": "code",
   "execution_count": 13,
   "id": "5619fae5",
   "metadata": {},
   "outputs": [],
   "source": [
    "hp1 = pd.read_csv('Harry Potter 1.csv', sep = ';')\n",
    "hp2 = pd.read_csv('Harry Potter 2.csv', sep = ';')\n",
    "hp3 = pd.read_csv('Harry Potter 3.csv', sep = ';')"
   ]
  },
  {
   "cell_type": "markdown",
   "id": "aa11e1f0",
   "metadata": {},
   "source": [
    "### Step 2 - Cleaning and transforming the input data files"
   ]
  },
  {
   "cell_type": "code",
   "execution_count": 14,
   "id": "275089de",
   "metadata": {},
   "outputs": [
    {
     "data": {
      "text/plain": [
       "array(['Harry', 'Aunt Petunia', 'Uncle Vernon', 'Aunt Marge',\n",
       "       'Stan Shunpike', 'Shrunken Head', 'Tom', 'Fudge', 'Vendor',\n",
       "       'Housekeeper', 'Ron', 'Hermione', 'George', 'Fred', 'Mrs. Weasley',\n",
       "       'Mr. Weasley', 'Lupin', 'Dumbledore', 'Draco', 'Seamus',\n",
       "       'Fat Lady', 'Dean', 'Trelawney', 'Neville', 'Bem', 'Hagrid',\n",
       "       'Pansy Parkinson', 'Boy', 'Class', 'Parvati', 'Mcgonagall',\n",
       "       'Filch', 'Percy', 'Ginny', 'Teacher', 'Snape', 'Crowd', 'Man',\n",
       "       'Fred & George', 'Witch', 'Crabbe', 'Madam Rosmerta',\n",
       "       'Shrunken Head 1', 'Shrunken Head 2', 'Voice', 'Goyle', 'Sirius',\n",
       "       'Pettigrew', 'Boy 1', 'Boy 2'], dtype=object)"
      ]
     },
     "execution_count": 14,
     "metadata": {},
     "output_type": "execute_result"
    }
   ],
   "source": [
    "hp1['Character'] = hp1['Character'].fillna(' ').\\\n",
    "                                    apply(lambda x: x.replace('\\xa0', ' '))\n",
    "\n",
    "hp2['Character'] = hp2['Character'].fillna(' ').\\\n",
    "                                    apply(lambda x: x.replace('\\xa0', ' '))\n",
    "\n",
    "hp3 = hp3.rename({'CHARACTER': 'Character', 'SENTENCE': 'Sentence'}, axis=1)\n",
    "hp3['Character'] = hp3['Character'].fillna(' ').\\\n",
    "                                            apply(lambda x: x.replace('\\n', ''))\n",
    "\n",
    "hp2.Character = hp2.Character.str.title()\n",
    "hp3.Character = hp3.Character.str.title()\n",
    "\n",
    "hp3['Character'].unique()"
   ]
  },
  {
   "cell_type": "markdown",
   "id": "a823efb7",
   "metadata": {},
   "source": [
    "### Step 3 - Concatenating the three files"
   ]
  },
  {
   "cell_type": "code",
   "execution_count": 15,
   "id": "9fe01161",
   "metadata": {},
   "outputs": [
    {
     "data": {
      "text/html": [
       "<div>\n",
       "<style scoped>\n",
       "    .dataframe tbody tr th:only-of-type {\n",
       "        vertical-align: middle;\n",
       "    }\n",
       "\n",
       "    .dataframe tbody tr th {\n",
       "        vertical-align: top;\n",
       "    }\n",
       "\n",
       "    .dataframe thead th {\n",
       "        text-align: right;\n",
       "    }\n",
       "</style>\n",
       "<table border=\"1\" class=\"dataframe\">\n",
       "  <thead>\n",
       "    <tr style=\"text-align: right;\">\n",
       "      <th></th>\n",
       "      <th>Character</th>\n",
       "      <th>Sentence</th>\n",
       "    </tr>\n",
       "  </thead>\n",
       "  <tbody>\n",
       "    <tr>\n",
       "      <th>0</th>\n",
       "      <td>Harry</td>\n",
       "      <td>I should've known that you would be here, Prof...</td>\n",
       "    </tr>\n",
       "    <tr>\n",
       "      <th>1</th>\n",
       "      <td>Harry</td>\n",
       "      <td>Good evening, Professor Dumbledore.</td>\n",
       "    </tr>\n",
       "    <tr>\n",
       "      <th>2</th>\n",
       "      <td>Harry</td>\n",
       "      <td>Are the rumors true, Albus?</td>\n",
       "    </tr>\n",
       "    <tr>\n",
       "      <th>3</th>\n",
       "      <td>Harry</td>\n",
       "      <td>I'm afraid so, professor.</td>\n",
       "    </tr>\n",
       "    <tr>\n",
       "      <th>4</th>\n",
       "      <td>Aunt Petunia</td>\n",
       "      <td>The good and the bad.</td>\n",
       "    </tr>\n",
       "    <tr>\n",
       "      <th>...</th>\n",
       "      <td>...</td>\n",
       "      <td>...</td>\n",
       "    </tr>\n",
       "    <tr>\n",
       "      <th>1633</th>\n",
       "      <td>Hermione</td>\n",
       "      <td>How fast is it, Harry?</td>\n",
       "    </tr>\n",
       "    <tr>\n",
       "      <th>1634</th>\n",
       "      <td>Harry</td>\n",
       "      <td>Lumos.</td>\n",
       "    </tr>\n",
       "    <tr>\n",
       "      <th>1635</th>\n",
       "      <td>Harry</td>\n",
       "      <td>I solemnly swear that I am up to no good.</td>\n",
       "    </tr>\n",
       "    <tr>\n",
       "      <th>1636</th>\n",
       "      <td>Harry</td>\n",
       "      <td>Mischief managed.</td>\n",
       "    </tr>\n",
       "    <tr>\n",
       "      <th>1637</th>\n",
       "      <td>Harry</td>\n",
       "      <td>Nox.</td>\n",
       "    </tr>\n",
       "  </tbody>\n",
       "</table>\n",
       "<p>4925 rows × 2 columns</p>\n",
       "</div>"
      ],
      "text/plain": [
       "         Character                                           Sentence\n",
       "0            Harry  I should've known that you would be here, Prof...\n",
       "1            Harry                Good evening, Professor Dumbledore.\n",
       "2            Harry                        Are the rumors true, Albus?\n",
       "3            Harry                          I'm afraid so, professor.\n",
       "4     Aunt Petunia                              The good and the bad.\n",
       "...            ...                                                ...\n",
       "1633      Hermione                             How fast is it, Harry?\n",
       "1634         Harry                                             Lumos.\n",
       "1635         Harry          I solemnly swear that I am up to no good.\n",
       "1636         Harry                                  Mischief managed.\n",
       "1637         Harry                                               Nox.\n",
       "\n",
       "[4925 rows x 2 columns]"
      ]
     },
     "execution_count": 15,
     "metadata": {},
     "output_type": "execute_result"
    }
   ],
   "source": [
    "df_list = [hp1, hp2, hp3]\n",
    "# Concatenating the dataframes\n",
    "hp_complete = pd.concat(df_list)\n",
    "\n",
    "# Removing trailing spaces\n",
    "hp_complete.Character = hp_complete.Character.str.strip()\n",
    "# Making the character name uniform for further processing.\n",
    "hp_complete['Character'] = hp3['Character'].fillna(' ').\\\n",
    "                                            apply(lambda x: x.replace('Mcgonagall', 'McGonagall'))\n",
    "hp_complete"
   ]
  },
  {
   "cell_type": "code",
   "execution_count": 16,
   "id": "a6774137",
   "metadata": {},
   "outputs": [
    {
     "data": {
      "text/plain": [
       "array(['Harry', 'Aunt Petunia', 'Uncle Vernon', 'Aunt Marge',\n",
       "       'Stan Shunpike', 'Shrunken Head', 'Tom', 'Fudge', 'Vendor',\n",
       "       'Housekeeper', 'Ron', 'Hermione', 'George', 'Fred', 'Mrs. Weasley',\n",
       "       'Mr. Weasley', 'Lupin', 'Dumbledore', 'Draco', 'Seamus',\n",
       "       'Fat Lady', 'Dean', 'Trelawney', 'Neville', 'Bem', 'Hagrid',\n",
       "       'Pansy Parkinson', 'Boy', 'Class', 'Parvati', 'McGonagall',\n",
       "       'Filch', 'Percy', 'Ginny', 'Teacher', 'Snape', 'Crowd', 'Man',\n",
       "       'Fred & George', 'Witch', 'Crabbe', 'Madam Rosmerta',\n",
       "       'Shrunken Head 1', 'Shrunken Head 2', 'Voice', 'Goyle', 'Sirius',\n",
       "       'Pettigrew', 'Boy 1', 'Boy 2', nan], dtype=object)"
      ]
     },
     "execution_count": 16,
     "metadata": {},
     "output_type": "execute_result"
    }
   ],
   "source": [
    "hp_complete['Character'].unique()"
   ]
  },
  {
   "cell_type": "markdown",
   "id": "5100c1bd",
   "metadata": {},
   "source": [
    "## Contextual Visualization #1\n",
    "For this visulization I have created a bar plot showing the 20 most important characters based on the number of dialogues.\n",
    "\n",
    "### Step 1 - Grouping the data to find out number of dialogues for each character"
   ]
  },
  {
   "cell_type": "code",
   "execution_count": 17,
   "id": "e301225d",
   "metadata": {},
   "outputs": [
    {
     "data": {
      "text/html": [
       "<div>\n",
       "<style scoped>\n",
       "    .dataframe tbody tr th:only-of-type {\n",
       "        vertical-align: middle;\n",
       "    }\n",
       "\n",
       "    .dataframe tbody tr th {\n",
       "        vertical-align: top;\n",
       "    }\n",
       "\n",
       "    .dataframe thead th {\n",
       "        text-align: right;\n",
       "    }\n",
       "</style>\n",
       "<table border=\"1\" class=\"dataframe\">\n",
       "  <thead>\n",
       "    <tr style=\"text-align: right;\">\n",
       "      <th></th>\n",
       "      <th>Character</th>\n",
       "      <th>Dialogue Count</th>\n",
       "    </tr>\n",
       "  </thead>\n",
       "  <tbody>\n",
       "    <tr>\n",
       "      <th>0</th>\n",
       "      <td>Aunt Marge</td>\n",
       "      <td>111</td>\n",
       "    </tr>\n",
       "    <tr>\n",
       "      <th>1</th>\n",
       "      <td>Aunt Petunia</td>\n",
       "      <td>18</td>\n",
       "    </tr>\n",
       "    <tr>\n",
       "      <th>2</th>\n",
       "      <td>Bem</td>\n",
       "      <td>24</td>\n",
       "    </tr>\n",
       "    <tr>\n",
       "      <th>3</th>\n",
       "      <td>Boy</td>\n",
       "      <td>6</td>\n",
       "    </tr>\n",
       "    <tr>\n",
       "      <th>4</th>\n",
       "      <td>Boy 1</td>\n",
       "      <td>2</td>\n",
       "    </tr>\n",
       "  </tbody>\n",
       "</table>\n",
       "</div>"
      ],
      "text/plain": [
       "      Character  Dialogue Count\n",
       "0    Aunt Marge             111\n",
       "1  Aunt Petunia              18\n",
       "2           Bem              24\n",
       "3           Boy               6\n",
       "4         Boy 1               2"
      ]
     },
     "execution_count": 17,
     "metadata": {},
     "output_type": "execute_result"
    }
   ],
   "source": [
    "dia_count = hp_complete.groupby(['Character']).size().reset_index().rename(columns = {0: 'Dialogue Count'})\n",
    "dia_count.head()"
   ]
  },
  {
   "cell_type": "markdown",
   "id": "13872002",
   "metadata": {},
   "source": [
    "### Step 2 - Finding out top 20 characters based on the dialogue count"
   ]
  },
  {
   "cell_type": "code",
   "execution_count": 18,
   "id": "b31b4b63",
   "metadata": {},
   "outputs": [
    {
     "data": {
      "text/html": [
       "<div>\n",
       "<style scoped>\n",
       "    .dataframe tbody tr th:only-of-type {\n",
       "        vertical-align: middle;\n",
       "    }\n",
       "\n",
       "    .dataframe tbody tr th {\n",
       "        vertical-align: top;\n",
       "    }\n",
       "\n",
       "    .dataframe thead th {\n",
       "        text-align: right;\n",
       "    }\n",
       "</style>\n",
       "<table border=\"1\" class=\"dataframe\">\n",
       "  <thead>\n",
       "    <tr style=\"text-align: right;\">\n",
       "      <th></th>\n",
       "      <th>Character</th>\n",
       "      <th>Dialogue Count</th>\n",
       "    </tr>\n",
       "  </thead>\n",
       "  <tbody>\n",
       "    <tr>\n",
       "      <th>21</th>\n",
       "      <td>Harry</td>\n",
       "      <td>911</td>\n",
       "    </tr>\n",
       "    <tr>\n",
       "      <th>24</th>\n",
       "      <td>Lupin</td>\n",
       "      <td>601</td>\n",
       "    </tr>\n",
       "    <tr>\n",
       "      <th>22</th>\n",
       "      <td>Hermione</td>\n",
       "      <td>577</td>\n",
       "    </tr>\n",
       "    <tr>\n",
       "      <th>35</th>\n",
       "      <td>Ron</td>\n",
       "      <td>446</td>\n",
       "    </tr>\n",
       "    <tr>\n",
       "      <th>20</th>\n",
       "      <td>Hagrid</td>\n",
       "      <td>291</td>\n",
       "    </tr>\n",
       "    <tr>\n",
       "      <th>11</th>\n",
       "      <td>Dumbledore</td>\n",
       "      <td>228</td>\n",
       "    </tr>\n",
       "    <tr>\n",
       "      <th>40</th>\n",
       "      <td>Sirius</td>\n",
       "      <td>210</td>\n",
       "    </tr>\n",
       "    <tr>\n",
       "      <th>41</th>\n",
       "      <td>Snape</td>\n",
       "      <td>183</td>\n",
       "    </tr>\n",
       "    <tr>\n",
       "      <th>16</th>\n",
       "      <td>Fudge</td>\n",
       "      <td>165</td>\n",
       "    </tr>\n",
       "    <tr>\n",
       "      <th>45</th>\n",
       "      <td>Trelawney</td>\n",
       "      <td>117</td>\n",
       "    </tr>\n",
       "    <tr>\n",
       "      <th>10</th>\n",
       "      <td>Draco</td>\n",
       "      <td>114</td>\n",
       "    </tr>\n",
       "    <tr>\n",
       "      <th>0</th>\n",
       "      <td>Aunt Marge</td>\n",
       "      <td>111</td>\n",
       "    </tr>\n",
       "    <tr>\n",
       "      <th>42</th>\n",
       "      <td>Stan Shunpike</td>\n",
       "      <td>84</td>\n",
       "    </tr>\n",
       "    <tr>\n",
       "      <th>14</th>\n",
       "      <td>Fred</td>\n",
       "      <td>74</td>\n",
       "    </tr>\n",
       "    <tr>\n",
       "      <th>27</th>\n",
       "      <td>McGonagall</td>\n",
       "      <td>66</td>\n",
       "    </tr>\n",
       "    <tr>\n",
       "      <th>17</th>\n",
       "      <td>George</td>\n",
       "      <td>65</td>\n",
       "    </tr>\n",
       "    <tr>\n",
       "      <th>34</th>\n",
       "      <td>Pettigrew</td>\n",
       "      <td>57</td>\n",
       "    </tr>\n",
       "    <tr>\n",
       "      <th>46</th>\n",
       "      <td>Uncle Vernon</td>\n",
       "      <td>57</td>\n",
       "    </tr>\n",
       "    <tr>\n",
       "      <th>28</th>\n",
       "      <td>Mr. Weasley</td>\n",
       "      <td>54</td>\n",
       "    </tr>\n",
       "    <tr>\n",
       "      <th>37</th>\n",
       "      <td>Shrunken Head</td>\n",
       "      <td>48</td>\n",
       "    </tr>\n",
       "  </tbody>\n",
       "</table>\n",
       "</div>"
      ],
      "text/plain": [
       "        Character  Dialogue Count\n",
       "21          Harry             911\n",
       "24          Lupin             601\n",
       "22       Hermione             577\n",
       "35            Ron             446\n",
       "20         Hagrid             291\n",
       "11     Dumbledore             228\n",
       "40         Sirius             210\n",
       "41          Snape             183\n",
       "16          Fudge             165\n",
       "45      Trelawney             117\n",
       "10          Draco             114\n",
       "0      Aunt Marge             111\n",
       "42  Stan Shunpike              84\n",
       "14           Fred              74\n",
       "27     McGonagall              66\n",
       "17         George              65\n",
       "34      Pettigrew              57\n",
       "46   Uncle Vernon              57\n",
       "28    Mr. Weasley              54\n",
       "37  Shrunken Head              48"
      ]
     },
     "execution_count": 18,
     "metadata": {},
     "output_type": "execute_result"
    }
   ],
   "source": [
    "top_characters = dia_count.sort_values('Dialogue Count', ascending = False)\n",
    "top_characters = top_characters.head(20)\n",
    "top_characters"
   ]
  },
  {
   "cell_type": "markdown",
   "id": "bd7f4bbf",
   "metadata": {},
   "source": [
    "### Step 3 - Creating the bar plot for listing important characters based on dialogue count"
   ]
  },
  {
   "cell_type": "code",
   "execution_count": 19,
   "id": "c5e27ff8",
   "metadata": {},
   "outputs": [],
   "source": [
    "col_sc = bqplot.ColorScale(scheme='Blues')\n",
    "x_sc = bqplot.OrdinalScale()\n",
    "y_sc = bqplot.LinearScale()\n",
    "\n",
    "#ax_x = bqplot.Axis(scale = x_sc, tick_rotate = -40, tick_style= {'font-size': '8px', 'text-anchor': 'end', 'font-size': 10},\\\n",
    "#                   label = 'Character Name', label_offset = '12%')\n",
    "#ax_y = bqplot.Axis(scale = y_sc, orientation = 'vertical', tick_style= {'font-size': '10px'}, label = 'Dialogue Count')\n",
    "#ax_col = bqplot.ColorAxis(scale = col_sc, orientation = 'vertical', side = 'right')\n",
    "\n",
    "fig1 = plt.figure(title = 'Important characters based on dialogue count',\n",
    "                  title_style = {'font-size': '25px', 'font-weight': 'bold'})\n",
    "\n",
    "top_char_plot = plt.bar(x = top_characters.Character.to_list(), \n",
    "                       y= top_characters['Dialogue Count'].to_list(),\n",
    "                       color = top_characters['Dialogue Count'].to_list(),\n",
    "                       scales = {'color': col_sc, 'x': x_sc, 'y': y_sc}, \n",
    "                       tick_style ={'font-size': 100}, interactions = {'hover': 'tooltip'})\n",
    "\n",
    "fig1.axes[1].tick_rotate = -60\n",
    "fig1.axes[1].tick_style = {'text-anchor': 'end', 'offset': '40px', 'font-size': 10}\n",
    "fig1.axes[1].label = 'Character Name'\n",
    "fig1.axes[1].label_offset = '12%'\n",
    "\n",
    "fig1.axes[2].label = 'Number of Dialogues'\n",
    "fig1.axes[2].label_offset = '-8%'\n",
    "\n",
    "fig1.axes[0].side = 'right'\n"
   ]
  },
  {
   "cell_type": "markdown",
   "id": "f0e45658",
   "metadata": {},
   "source": [
    "### Step 4 - Adding interactivity to the plot"
   ]
  },
  {
   "cell_type": "code",
   "execution_count": 20,
   "id": "a5f60559",
   "metadata": {},
   "outputs": [
    {
     "data": {
      "application/vnd.jupyter.widget-view+json": {
       "model_id": "2c8094c55c5341a7ae888d0c84c555e6",
       "version_major": 2,
       "version_minor": 0
      },
      "text/plain": [
       "Figure(axes=[ColorAxis(scale=ColorScale(scheme='Blues'), side='right'), Axis(label='Character Name', label_off…"
      ]
     },
     "metadata": {},
     "output_type": "display_data"
    }
   ],
   "source": [
    "def on_char_plot(_, event):\n",
    "    out3.clear_output()\n",
    "    with out3:\n",
    "        print(f\"Character Name: {event['data']['x']}\\n\"\\\n",
    "              f\"Dialogue count: {event['data']['y']}\\n\")\n",
    "    top_char_plot.tooltip = out3\n",
    "\n",
    "top_char_plot.on_hover(on_char_plot)\n",
    "\n",
    "fig1"
   ]
  },
  {
   "cell_type": "markdown",
   "id": "067ca466",
   "metadata": {},
   "source": [
    "The above bar chart shows the top 20 characters based on dialogue count. The deeper shade of blue indicates more number of dialogues spoken whereas the lighter shade indicates lesser number of dialogues. When hovered over a bar plot, the tooltip displays the character name and exatct number of dialogues spoken by the character. \n",
    "\n",
    "As expected, Harry, Ron, Hermione are among the top 5 characters as per the number of dialogues each one has spoken. Lupin has played an important role in the third movies of the series and thus he is overall the second most important character in the first three movies. "
   ]
  },
  {
   "cell_type": "markdown",
   "id": "58f7ae15",
   "metadata": {},
   "source": [
    "## Contextual Visualization #2\n",
    "\n",
    "The previous visualization successfully lists down the 20 most important characters. However, We also need to take into consideration the number of words spoken by each character. That may give us a more accurate estimate of who the most significant character was.\n",
    "\n",
    "### Step 1 - Finding out the words spoken in each dialogue"
   ]
  },
  {
   "cell_type": "code",
   "execution_count": 21,
   "id": "1bc266ac",
   "metadata": {},
   "outputs": [
    {
     "data": {
      "text/html": [
       "<div>\n",
       "<style scoped>\n",
       "    .dataframe tbody tr th:only-of-type {\n",
       "        vertical-align: middle;\n",
       "    }\n",
       "\n",
       "    .dataframe tbody tr th {\n",
       "        vertical-align: top;\n",
       "    }\n",
       "\n",
       "    .dataframe thead th {\n",
       "        text-align: right;\n",
       "    }\n",
       "</style>\n",
       "<table border=\"1\" class=\"dataframe\">\n",
       "  <thead>\n",
       "    <tr style=\"text-align: right;\">\n",
       "      <th></th>\n",
       "      <th>Character</th>\n",
       "      <th>Sentence</th>\n",
       "      <th>Word Count</th>\n",
       "    </tr>\n",
       "  </thead>\n",
       "  <tbody>\n",
       "    <tr>\n",
       "      <th>0</th>\n",
       "      <td>Harry</td>\n",
       "      <td>I should've known that you would be here, Prof...</td>\n",
       "      <td>10</td>\n",
       "    </tr>\n",
       "    <tr>\n",
       "      <th>1</th>\n",
       "      <td>Harry</td>\n",
       "      <td>Good evening, Professor Dumbledore.</td>\n",
       "      <td>4</td>\n",
       "    </tr>\n",
       "    <tr>\n",
       "      <th>2</th>\n",
       "      <td>Harry</td>\n",
       "      <td>Are the rumors true, Albus?</td>\n",
       "      <td>5</td>\n",
       "    </tr>\n",
       "    <tr>\n",
       "      <th>3</th>\n",
       "      <td>Harry</td>\n",
       "      <td>I'm afraid so, professor.</td>\n",
       "      <td>4</td>\n",
       "    </tr>\n",
       "    <tr>\n",
       "      <th>4</th>\n",
       "      <td>Aunt Petunia</td>\n",
       "      <td>The good and the bad.</td>\n",
       "      <td>5</td>\n",
       "    </tr>\n",
       "    <tr>\n",
       "      <th>...</th>\n",
       "      <td>...</td>\n",
       "      <td>...</td>\n",
       "      <td>...</td>\n",
       "    </tr>\n",
       "    <tr>\n",
       "      <th>1633</th>\n",
       "      <td>Hermione</td>\n",
       "      <td>How fast is it, Harry?</td>\n",
       "      <td>5</td>\n",
       "    </tr>\n",
       "    <tr>\n",
       "      <th>1634</th>\n",
       "      <td>Harry</td>\n",
       "      <td>Lumos.</td>\n",
       "      <td>1</td>\n",
       "    </tr>\n",
       "    <tr>\n",
       "      <th>1635</th>\n",
       "      <td>Harry</td>\n",
       "      <td>I solemnly swear that I am up to no good.</td>\n",
       "      <td>10</td>\n",
       "    </tr>\n",
       "    <tr>\n",
       "      <th>1636</th>\n",
       "      <td>Harry</td>\n",
       "      <td>Mischief managed.</td>\n",
       "      <td>2</td>\n",
       "    </tr>\n",
       "    <tr>\n",
       "      <th>1637</th>\n",
       "      <td>Harry</td>\n",
       "      <td>Nox.</td>\n",
       "      <td>1</td>\n",
       "    </tr>\n",
       "  </tbody>\n",
       "</table>\n",
       "<p>4925 rows × 3 columns</p>\n",
       "</div>"
      ],
      "text/plain": [
       "         Character                                           Sentence  \\\n",
       "0            Harry  I should've known that you would be here, Prof...   \n",
       "1            Harry                Good evening, Professor Dumbledore.   \n",
       "2            Harry                        Are the rumors true, Albus?   \n",
       "3            Harry                          I'm afraid so, professor.   \n",
       "4     Aunt Petunia                              The good and the bad.   \n",
       "...            ...                                                ...   \n",
       "1633      Hermione                             How fast is it, Harry?   \n",
       "1634         Harry                                             Lumos.   \n",
       "1635         Harry          I solemnly swear that I am up to no good.   \n",
       "1636         Harry                                  Mischief managed.   \n",
       "1637         Harry                                               Nox.   \n",
       "\n",
       "      Word Count  \n",
       "0             10  \n",
       "1              4  \n",
       "2              5  \n",
       "3              4  \n",
       "4              5  \n",
       "...          ...  \n",
       "1633           5  \n",
       "1634           1  \n",
       "1635          10  \n",
       "1636           2  \n",
       "1637           1  \n",
       "\n",
       "[4925 rows x 3 columns]"
      ]
     },
     "execution_count": 21,
     "metadata": {},
     "output_type": "execute_result"
    }
   ],
   "source": [
    "hp_complete['Word Count'] = hp_complete['Sentence'].str.split().str.len()\n",
    "hp_complete"
   ]
  },
  {
   "cell_type": "markdown",
   "id": "b2aba46a",
   "metadata": {},
   "source": [
    "### Step 2 - Grouping data to find out the number of words spoken by each character"
   ]
  },
  {
   "cell_type": "code",
   "execution_count": 22,
   "id": "fd6db255",
   "metadata": {},
   "outputs": [
    {
     "data": {
      "text/html": [
       "<div>\n",
       "<style scoped>\n",
       "    .dataframe tbody tr th:only-of-type {\n",
       "        vertical-align: middle;\n",
       "    }\n",
       "\n",
       "    .dataframe tbody tr th {\n",
       "        vertical-align: top;\n",
       "    }\n",
       "\n",
       "    .dataframe thead th {\n",
       "        text-align: right;\n",
       "    }\n",
       "</style>\n",
       "<table border=\"1\" class=\"dataframe\">\n",
       "  <thead>\n",
       "    <tr style=\"text-align: right;\">\n",
       "      <th></th>\n",
       "      <th>Character</th>\n",
       "      <th>Word Count</th>\n",
       "    </tr>\n",
       "  </thead>\n",
       "  <tbody>\n",
       "    <tr>\n",
       "      <th>0</th>\n",
       "      <td>Aunt Marge</td>\n",
       "      <td>679</td>\n",
       "    </tr>\n",
       "    <tr>\n",
       "      <th>1</th>\n",
       "      <td>Aunt Petunia</td>\n",
       "      <td>105</td>\n",
       "    </tr>\n",
       "    <tr>\n",
       "      <th>2</th>\n",
       "      <td>Bem</td>\n",
       "      <td>115</td>\n",
       "    </tr>\n",
       "    <tr>\n",
       "      <th>3</th>\n",
       "      <td>Boy</td>\n",
       "      <td>47</td>\n",
       "    </tr>\n",
       "    <tr>\n",
       "      <th>4</th>\n",
       "      <td>Boy 1</td>\n",
       "      <td>6</td>\n",
       "    </tr>\n",
       "  </tbody>\n",
       "</table>\n",
       "</div>"
      ],
      "text/plain": [
       "      Character  Word Count\n",
       "0    Aunt Marge         679\n",
       "1  Aunt Petunia         105\n",
       "2           Bem         115\n",
       "3           Boy          47\n",
       "4         Boy 1           6"
      ]
     },
     "execution_count": 22,
     "metadata": {},
     "output_type": "execute_result"
    }
   ],
   "source": [
    "word_count = hp_complete.groupby(['Character'])['Word Count'].sum().reset_index().rename(columns = {0: 'Word Count'})\n",
    "word_count.head()"
   ]
  },
  {
   "cell_type": "markdown",
   "id": "e9815069",
   "metadata": {},
   "source": [
    "### Step 3 - Finding out top 20 characters based on the dialogue count"
   ]
  },
  {
   "cell_type": "code",
   "execution_count": 23,
   "id": "125ec7d4",
   "metadata": {},
   "outputs": [
    {
     "data": {
      "text/html": [
       "<div>\n",
       "<style scoped>\n",
       "    .dataframe tbody tr th:only-of-type {\n",
       "        vertical-align: middle;\n",
       "    }\n",
       "\n",
       "    .dataframe tbody tr th {\n",
       "        vertical-align: top;\n",
       "    }\n",
       "\n",
       "    .dataframe thead th {\n",
       "        text-align: right;\n",
       "    }\n",
       "</style>\n",
       "<table border=\"1\" class=\"dataframe\">\n",
       "  <thead>\n",
       "    <tr style=\"text-align: right;\">\n",
       "      <th></th>\n",
       "      <th>Character</th>\n",
       "      <th>Word Count</th>\n",
       "    </tr>\n",
       "  </thead>\n",
       "  <tbody>\n",
       "    <tr>\n",
       "      <th>21</th>\n",
       "      <td>Harry</td>\n",
       "      <td>4929</td>\n",
       "    </tr>\n",
       "    <tr>\n",
       "      <th>24</th>\n",
       "      <td>Lupin</td>\n",
       "      <td>3749</td>\n",
       "    </tr>\n",
       "    <tr>\n",
       "      <th>22</th>\n",
       "      <td>Hermione</td>\n",
       "      <td>3518</td>\n",
       "    </tr>\n",
       "    <tr>\n",
       "      <th>35</th>\n",
       "      <td>Ron</td>\n",
       "      <td>2564</td>\n",
       "    </tr>\n",
       "    <tr>\n",
       "      <th>20</th>\n",
       "      <td>Hagrid</td>\n",
       "      <td>1789</td>\n",
       "    </tr>\n",
       "    <tr>\n",
       "      <th>11</th>\n",
       "      <td>Dumbledore</td>\n",
       "      <td>1545</td>\n",
       "    </tr>\n",
       "    <tr>\n",
       "      <th>40</th>\n",
       "      <td>Sirius</td>\n",
       "      <td>1418</td>\n",
       "    </tr>\n",
       "    <tr>\n",
       "      <th>41</th>\n",
       "      <td>Snape</td>\n",
       "      <td>1113</td>\n",
       "    </tr>\n",
       "    <tr>\n",
       "      <th>16</th>\n",
       "      <td>Fudge</td>\n",
       "      <td>959</td>\n",
       "    </tr>\n",
       "    <tr>\n",
       "      <th>45</th>\n",
       "      <td>Trelawney</td>\n",
       "      <td>728</td>\n",
       "    </tr>\n",
       "    <tr>\n",
       "      <th>10</th>\n",
       "      <td>Draco</td>\n",
       "      <td>718</td>\n",
       "    </tr>\n",
       "    <tr>\n",
       "      <th>0</th>\n",
       "      <td>Aunt Marge</td>\n",
       "      <td>679</td>\n",
       "    </tr>\n",
       "    <tr>\n",
       "      <th>42</th>\n",
       "      <td>Stan Shunpike</td>\n",
       "      <td>513</td>\n",
       "    </tr>\n",
       "    <tr>\n",
       "      <th>27</th>\n",
       "      <td>McGonagall</td>\n",
       "      <td>482</td>\n",
       "    </tr>\n",
       "    <tr>\n",
       "      <th>14</th>\n",
       "      <td>Fred</td>\n",
       "      <td>397</td>\n",
       "    </tr>\n",
       "    <tr>\n",
       "      <th>17</th>\n",
       "      <td>George</td>\n",
       "      <td>371</td>\n",
       "    </tr>\n",
       "    <tr>\n",
       "      <th>28</th>\n",
       "      <td>Mr. Weasley</td>\n",
       "      <td>370</td>\n",
       "    </tr>\n",
       "    <tr>\n",
       "      <th>46</th>\n",
       "      <td>Uncle Vernon</td>\n",
       "      <td>325</td>\n",
       "    </tr>\n",
       "    <tr>\n",
       "      <th>34</th>\n",
       "      <td>Pettigrew</td>\n",
       "      <td>278</td>\n",
       "    </tr>\n",
       "    <tr>\n",
       "      <th>25</th>\n",
       "      <td>Madam Rosmerta</td>\n",
       "      <td>255</td>\n",
       "    </tr>\n",
       "  </tbody>\n",
       "</table>\n",
       "</div>"
      ],
      "text/plain": [
       "         Character  Word Count\n",
       "21           Harry        4929\n",
       "24           Lupin        3749\n",
       "22        Hermione        3518\n",
       "35             Ron        2564\n",
       "20          Hagrid        1789\n",
       "11      Dumbledore        1545\n",
       "40          Sirius        1418\n",
       "41           Snape        1113\n",
       "16           Fudge         959\n",
       "45       Trelawney         728\n",
       "10           Draco         718\n",
       "0       Aunt Marge         679\n",
       "42   Stan Shunpike         513\n",
       "27      McGonagall         482\n",
       "14            Fred         397\n",
       "17          George         371\n",
       "28     Mr. Weasley         370\n",
       "46    Uncle Vernon         325\n",
       "34       Pettigrew         278\n",
       "25  Madam Rosmerta         255"
      ]
     },
     "execution_count": 23,
     "metadata": {},
     "output_type": "execute_result"
    }
   ],
   "source": [
    "top_characters_words = word_count.sort_values('Word Count', ascending = False)\n",
    "\n",
    "top_characters_words = top_characters_words.head(20)\n",
    "top_characters_words"
   ]
  },
  {
   "cell_type": "markdown",
   "id": "e8c4f675",
   "metadata": {},
   "source": [
    "### Step 4 - Creating the bar plot for listing important characters based on word count"
   ]
  },
  {
   "cell_type": "code",
   "execution_count": 24,
   "id": "29fdb599",
   "metadata": {},
   "outputs": [],
   "source": [
    "fig2 = plt.figure(title = 'Important characters based on word count',\n",
    "                    title_style = {'font-size': '25px', 'font-weight': 'bold'})\n",
    "\n",
    "col_sc1 = bqplot.ColorScale(scheme='Greens')\n",
    "x_sc1 = bqplot.OrdinalScale()\n",
    "y_sc1 = bqplot.LinearScale()\n",
    "\n",
    "#ax_x1 = bqplot.Axis(scale = x_sc1, tick_rotate = -40, tick_style= {'font-size': '8px', 'text-anchor': 'end', 'font-size': 10},\\\n",
    "#                   label = 'Character Name', label_offset = '12%')\n",
    "#ax_y1 = bqplot.Axis(scale = y_sc1, orientation = 'vertical', tick_style= {'font-size': '10px'}, label = 'Word Count')\n",
    "#ax_col1 = bqplot.ColorAxis(scale = col_sc1, orientation = 'vertical', side = 'right')\n",
    "\n",
    "top_word_plot = plt.bar(x = top_characters_words.Character.to_list(), \n",
    "                       y= top_characters_words['Word Count'].to_list(),\n",
    "                       color = top_characters_words['Word Count'].to_list(),\n",
    "                       scales = {'color': col_sc1, 'x': x_sc1, 'y': y_sc1},\n",
    "                       tick_style ={'font-size': 100}, interactions = {'hover': 'tooltip'})\n",
    "\n",
    "\n",
    "fig2.axes[1].tick_rotate = -60\n",
    "fig2.axes[1].tick_style = {'text-anchor': 'end', 'offset': '40px', 'font-size': 10}\n",
    "fig2.axes[1].label = 'Character Name'\n",
    "fig2.axes[1].label_offset = '12%'\n",
    "\n",
    "fig2.axes[2].label = 'Number of Words'\n",
    "fig2.axes[2].label_offset = '-8%'\n",
    "\n",
    "fig2.axes[0].side = 'right'"
   ]
  },
  {
   "cell_type": "markdown",
   "id": "b4922629",
   "metadata": {},
   "source": [
    "### Step 5 - Adding interactivity to the plot"
   ]
  },
  {
   "cell_type": "code",
   "execution_count": 25,
   "id": "0ceccc79",
   "metadata": {},
   "outputs": [
    {
     "data": {
      "application/vnd.jupyter.widget-view+json": {
       "model_id": "51a99f614f3343a0b47aedfc0b5605ff",
       "version_major": 2,
       "version_minor": 0
      },
      "text/plain": [
       "Figure(axes=[ColorAxis(scale=ColorScale(scheme='Greens'), side='right'), Axis(label='Character Name', label_of…"
      ]
     },
     "metadata": {},
     "output_type": "display_data"
    }
   ],
   "source": [
    "def on_word_plot_1(_, event):\n",
    "    out4.clear_output()\n",
    "    with out4:\n",
    "        print(f\"Character Name: {event['data']['x']}\\n\"\\\n",
    "              f\"Word count: {event['data']['y']}\\n\")\n",
    "    top_word_plot.tooltip = out4\n",
    "\n",
    "top_word_plot.on_hover(on_word_plot_1)\n",
    "\n",
    "fig2"
   ]
  },
  {
   "cell_type": "markdown",
   "id": "ecd6c8fa",
   "metadata": {},
   "source": [
    "The above bar chart shows the top 20 characters based on word count. The deeper shade of green indicates more number of words spoken whereas the lighter shade indicates lesser number of words. When hovered over a bar plot, the tooltip displays the character name and exatct number of words spoken by the character.\n",
    "\n",
    "Similar to the previous visulization, Harry, Lupin, Ron, Hermione top this bar chart as well. In fact, the order remains the same till Stan Shunpike. The order in which the characters appear based on the number of words they've spoken changes. For instance, Fred was ranked before McGonagall on the basis of number of dialogues, however as per the number of words spoken by both the characters, McGonagall is ranked before Fred.\n",
    "\n",
    "I have used this as the base plot for the next visulization."
   ]
  },
  {
   "cell_type": "markdown",
   "id": "e0ed93d4",
   "metadata": {},
   "source": [
    "## Contextual Visulization #3\n",
    "I wanted to map the information about the top 20 most important characters based on number of words spoken with the different houses and the blood statuses from the main dataset. This would help us understand which house had the most important characters.\n",
    "\n",
    "### Step 1 - Fetching the House and the Blood Status information of top 20 important characters"
   ]
  },
  {
   "cell_type": "code",
   "execution_count": 26,
   "id": "f1ffcc58-0ea8-4ff1-a55b-71cee936687d",
   "metadata": {},
   "outputs": [],
   "source": [
    "tcw_list = top_characters_words.Character\n",
    "\n",
    "# Fetching house of the characters\n",
    "def get_house(x, characters_data):\n",
    "    _ = characters_data.apply(lambda y: y['House'] if x in y['Name'] else None, axis  = 1).dropna()\n",
    "    if not _.empty:\n",
    "        return _.iloc[0]\n",
    "    else:\n",
    "        return 'Other'\n",
    "    \n",
    "# Fetching the blood status of the characters    \n",
    "def get_blood_status(x, characters_data):\n",
    "    _ = characters_data.apply(lambda y: y['Blood status'] if x in y['Name'] else None, axis  = 1).dropna()\n",
    "    if not _.empty:\n",
    "        return _.iloc[0]\n",
    "    else:\n",
    "        return 'Other'\n",
    "\n",
    "top_characters_words['House'] = top_characters_words.Character.apply(lambda x: get_house(x, characters_data))\n",
    "top_characters_words['Blood Status'] = top_characters_words.Character.apply(lambda x: get_blood_status(x, characters_data))"
   ]
  },
  {
   "cell_type": "markdown",
   "id": "5a521470",
   "metadata": {},
   "source": [
    "### Step 2 - Creating colormap and assigning the colors to each Hogwarts house"
   ]
  },
  {
   "cell_type": "code",
   "execution_count": 27,
   "id": "3e4c0482-40d2-4cfc-805f-665fce3c6808",
   "metadata": {},
   "outputs": [
    {
     "data": {
      "text/html": [
       "<div>\n",
       "<style scoped>\n",
       "    .dataframe tbody tr th:only-of-type {\n",
       "        vertical-align: middle;\n",
       "    }\n",
       "\n",
       "    .dataframe tbody tr th {\n",
       "        vertical-align: top;\n",
       "    }\n",
       "\n",
       "    .dataframe thead th {\n",
       "        text-align: right;\n",
       "    }\n",
       "</style>\n",
       "<table border=\"1\" class=\"dataframe\">\n",
       "  <thead>\n",
       "    <tr style=\"text-align: right;\">\n",
       "      <th></th>\n",
       "      <th>Character</th>\n",
       "      <th>Word Count</th>\n",
       "      <th>House</th>\n",
       "      <th>Blood Status</th>\n",
       "      <th>House color</th>\n",
       "    </tr>\n",
       "  </thead>\n",
       "  <tbody>\n",
       "    <tr>\n",
       "      <th>21</th>\n",
       "      <td>Harry</td>\n",
       "      <td>4929</td>\n",
       "      <td>Gryffindor</td>\n",
       "      <td>Half-blood</td>\n",
       "      <td>red</td>\n",
       "    </tr>\n",
       "    <tr>\n",
       "      <th>24</th>\n",
       "      <td>Lupin</td>\n",
       "      <td>3749</td>\n",
       "      <td>Gryffindor</td>\n",
       "      <td>Half-blood</td>\n",
       "      <td>red</td>\n",
       "    </tr>\n",
       "    <tr>\n",
       "      <th>22</th>\n",
       "      <td>Hermione</td>\n",
       "      <td>3518</td>\n",
       "      <td>Gryffindor</td>\n",
       "      <td>Muggle-born</td>\n",
       "      <td>red</td>\n",
       "    </tr>\n",
       "    <tr>\n",
       "      <th>35</th>\n",
       "      <td>Ron</td>\n",
       "      <td>2564</td>\n",
       "      <td>Gryffindor</td>\n",
       "      <td>Pure-blood</td>\n",
       "      <td>red</td>\n",
       "    </tr>\n",
       "    <tr>\n",
       "      <th>20</th>\n",
       "      <td>Hagrid</td>\n",
       "      <td>1789</td>\n",
       "      <td>Gryffindor</td>\n",
       "      <td>Part-Human (Half-giant)</td>\n",
       "      <td>red</td>\n",
       "    </tr>\n",
       "  </tbody>\n",
       "</table>\n",
       "</div>"
      ],
      "text/plain": [
       "   Character  Word Count       House             Blood Status House color\n",
       "21     Harry        4929  Gryffindor               Half-blood         red\n",
       "24     Lupin        3749  Gryffindor               Half-blood         red\n",
       "22  Hermione        3518  Gryffindor              Muggle-born         red\n",
       "35       Ron        2564  Gryffindor               Pure-blood         red\n",
       "20    Hagrid        1789  Gryffindor  Part-Human (Half-giant)         red"
      ]
     },
     "execution_count": 27,
     "metadata": {},
     "output_type": "execute_result"
    }
   ],
   "source": [
    "color_map = {'Gryffindor': 'red', 'Slytherin': 'green', 'Other': 'gray', 'Ravenclaw': 'blue', 'Hufflepuff': 'yellow'}\n",
    "\n",
    "top_characters_words['House color'] = ''\n",
    "for k, v in color_map.items():\n",
    "    top_characters_words.loc[top_characters_words['House'] == k, 'House color'] = v\n",
    "    \n",
    "top_characters_words.head()"
   ]
  },
  {
   "cell_type": "markdown",
   "id": "f4aa73f1",
   "metadata": {},
   "source": [
    "### Step 3 - Creating the bar plot"
   ]
  },
  {
   "cell_type": "code",
   "execution_count": 28,
   "id": "e3a885dc",
   "metadata": {},
   "outputs": [],
   "source": [
    "char_plot = plt.figure(title = 'Important characters based on word count',\n",
    "                    title_style = {'font-size': '25px', 'font-weight': 'bold'},\n",
    "                      legend_location=\"top-left\")\n",
    "\n",
    "col_sc2 = bqplot.ColorScale(scheme='Greens')\n",
    "x_sc2 = bqplot.OrdinalScale()\n",
    "y_sc2 = bqplot.LinearScale()\n",
    "\n",
    "ax_x2 = bqplot.Axis(scale = x_sc2, tick_rotate = -40, tick_style= {'font-size': '8px', 'text-anchor': 'end', 'font-size': 10},\\\n",
    "                   label = 'Character Name', label_offset = '12%')\n",
    "ax_y2 = bqplot.Axis(scale = y_sc2, orientation = 'vertical', tick_style= {'font-size': '10px'}, label = 'Word Count')\n",
    "# ax_col1 = bqplot.ColorAxis(scale = col_sc1, orientation = 'vertical', side = 'right')\n",
    "\n",
    "top_word_plot = plt.bar(x = top_characters_words.Character.to_list(), \n",
    "                        y= top_characters_words['Word Count'].to_list(),\n",
    "                        colors = top_characters_words['House color'].tolist(),\n",
    "                        scales = {'x': x_sc2, 'y': y_sc2},\n",
    "                        tick_style ={'font-size': 100}, \n",
    "                        interactions = {'hover': 'tooltip'})\n",
    "\n",
    "char_plot.axes[0].tick_rotate = -60\n",
    "char_plot.axes[0].tick_style = {'text-anchor': 'end', 'offset': '40px', 'font-size': 10}\n",
    "char_plot.axes[0].label = 'Character Name'\n",
    "char_plot.axes[0].label_offset = '12%'\n",
    "\n",
    "char_plot.axes[1].label = 'Number of words'\n",
    "char_plot.axes[1].label_offset = '-8%'"
   ]
  },
  {
   "cell_type": "markdown",
   "id": "60b377d0",
   "metadata": {},
   "source": [
    "### Step 4 - Adding interactivity to the bar plot"
   ]
  },
  {
   "cell_type": "code",
   "execution_count": 29,
   "id": "69b6a65b",
   "metadata": {},
   "outputs": [
    {
     "data": {
      "application/vnd.jupyter.widget-view+json": {
       "model_id": "d3ae3ca7a7e64baa8dde31dbf0b90fd8",
       "version_major": 2,
       "version_minor": 0
      },
      "text/plain": [
       "Figure(axes=[Axis(label='Character Name', label_offset='12%', scale=OrdinalScale(), tick_rotate=-60, tick_styl…"
      ]
     },
     "metadata": {},
     "output_type": "display_data"
    }
   ],
   "source": [
    "def on_word_plot_house(_, event, data):\n",
    "    out4.clear_output()\n",
    "    with out4:\n",
    "        row = data.loc[data['Character'] == event['data']['x']]\n",
    "        print(f\"Character Name: {row['Character'].values[0]}\\n\"\\\n",
    "              f\"Word count: {row['Word Count'].values[0]}\\n\"\\\n",
    "              f\"House: {row['House'].values[0]}\\n\"\n",
    "              f\"Blood Type: {row['Blood Status'].values[0]}\\n\")\n",
    "    top_word_plot.tooltip = out4\n",
    "\n",
    "top_word_plot.on_hover(lambda _, x: on_word_plot_house(_, x, top_characters_words))\n",
    "\n",
    "char_plot"
   ]
  },
  {
   "cell_type": "markdown",
   "id": "ea378ca2",
   "metadata": {},
   "source": [
    "The above bar plot shows the 20 most important characters based on the number of words spoken by them. The colors of the barplot represent the Hogwart houses. When hovered over any bar in the above bar chart the tooltip shows the name of the character, number of words spoken, the house to which the character belongs, and the blood status of the character.\n",
    "\n",
    "From the above visulization, we can clearly see that Gryffindor has the most number of important characters in the three movies combined. From Slytherin, Snape and Draco make and appearance while from Ravenclaw, only Professor Trelawney made it to the list. Hufflepuff does not have any characters in the list of 20 most important characters."
   ]
  },
  {
   "cell_type": "markdown",
   "id": "6ef9c094",
   "metadata": {},
   "source": [
    "## Source Links for the input datasets:\n",
    "Characters.csv - https://www.kaggle.com/gulsahdemiryurek/harry-potter-dataset?select=Characters.csv </br>\n",
    "Harry Potter 1.csv - https://www.kaggle.com/gulsahdemiryurek/harry-potter-dataset?select=Harry+Potter+1.csv </br>\n",
    "Harry Potter 2.csv - https://www.kaggle.com/gulsahdemiryurek/harry-potter-dataset?select=Harry+Potter+2.csv </br>\n",
    "Harry Potter 3.csv - https://www.kaggle.com/gulsahdemiryurek/harry-potter-dataset?select=Harry+Potter+3.csv\n",
    "\n",
    "Inspiration for this project - https://public.tableau.com/app/profile/martina6444/viz/VizWhatyouLove_HarryPotterCharacters/HarryPotterDashboard"
   ]
  },
  {
   "cell_type": "code",
   "execution_count": null,
   "id": "c86f5d5b",
   "metadata": {},
   "outputs": [],
   "source": []
  }
 ],
 "metadata": {
  "kernelspec": {
   "display_name": "Python 3 (ipykernel)",
   "language": "python",
   "name": "python3"
  },
  "language_info": {
   "codemirror_mode": {
    "name": "ipython",
    "version": 3
   },
   "file_extension": ".py",
   "mimetype": "text/x-python",
   "name": "python",
   "nbconvert_exporter": "python",
   "pygments_lexer": "ipython3",
   "version": "3.7.10"
  }
 },
 "nbformat": 4,
 "nbformat_minor": 5
}
